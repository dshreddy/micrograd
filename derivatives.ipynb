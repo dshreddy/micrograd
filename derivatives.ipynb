{
 "cells": [
  {
   "cell_type": "code",
   "execution_count": null,
   "id": "9ea9ba6e",
   "metadata": {},
   "outputs": [],
   "source": [
    "import math\n",
    "import numpy as np \n",
    "import matplotlib.pyplot as plt "
   ]
  },
  {
   "cell_type": "code",
   "execution_count": 6,
   "id": "95f1d96e",
   "metadata": {},
   "outputs": [],
   "source": [
    "# A polynomial function\n",
    "def f(x):\n",
    "    return 3 * (x**2) - 4*x + 5"
   ]
  },
  {
   "cell_type": "code",
   "execution_count": 7,
   "id": "0d9c94e0",
   "metadata": {},
   "outputs": [
    {
     "data": {
      "text/plain": [
       "20.0"
      ]
     },
     "execution_count": 7,
     "metadata": {},
     "output_type": "execute_result"
    }
   ],
   "source": [
    "# Testing f(x)\n",
    "f(3.0)"
   ]
  },
  {
   "cell_type": "code",
   "execution_count": 9,
   "id": "2635aa91",
   "metadata": {},
   "outputs": [
    {
     "data": {
      "text/plain": [
       "array([-5.  , -4.75, -4.5 , -4.25, -4.  , -3.75, -3.5 , -3.25, -3.  ,\n",
       "       -2.75, -2.5 , -2.25, -2.  , -1.75, -1.5 , -1.25, -1.  , -0.75,\n",
       "       -0.5 , -0.25,  0.  ,  0.25,  0.5 ,  0.75,  1.  ,  1.25,  1.5 ,\n",
       "        1.75,  2.  ,  2.25,  2.5 ,  2.75,  3.  ,  3.25,  3.5 ,  3.75,\n",
       "        4.  ,  4.25,  4.5 ,  4.75])"
      ]
     },
     "execution_count": 9,
     "metadata": {},
     "output_type": "execute_result"
    }
   ],
   "source": [
    "# Create a list of xs\n",
    "xs = np.arange(-5,5,0.25) # Create an array starting from [-5,+5) with a step size of 0.25\n",
    "xs"
   ]
  },
  {
   "cell_type": "code",
   "execution_count": 13,
   "id": "4365dfe5",
   "metadata": {},
   "outputs": [
    {
     "data": {
      "text/plain": [
       "[<matplotlib.lines.Line2D at 0x11d5fb220>]"
      ]
     },
     "execution_count": 13,
     "metadata": {},
     "output_type": "execute_result"
    },
    {
     "data": {
      "image/png": "[encoded data removed]",
      "text/plain": [
       "<Figure size 640x480 with 1 Axes>"
      ]
     },
     "metadata": {},
     "output_type": "display_data"
    }
   ],
   "source": [
    "ys = f(xs) # Pass the xs as input to f(x) to generate a few points on the curve f(x)\n",
    "\n",
    "# Plot the curve using the generated points on the curve\n",
    "plt .title(\"Plot of curve $f(x) = x^2$\")\n",
    "plt.xlabel(\"x\")\n",
    "plt.ylabel(\"y\")\n",
    "plt.plot(xs, ys)"
   ]
  },
  {
   "cell_type": "markdown",
   "id": "63ed5086",
   "metadata": {},
   "source": [
    "# Derivative of a Single Variable Function Like $f(x)$\n",
    "[Refer this for definition of derivative](https://en.wikipedia.org/wiki/Derivative#Definition)"
   ]
  },
  {
   "cell_type": "code",
   "execution_count": 23,
   "id": "189fcd07",
   "metadata": {},
   "outputs": [
    {
     "data": {
      "text/plain": [
       "14.00000009255109"
      ]
     },
     "execution_count": 23,
     "metadata": {},
     "output_type": "execute_result"
    }
   ],
   "source": [
    "h = 0.00000001 # The lower the value of h, the more accurate the value of derivative (L) will be\n",
    "x = 3\n",
    "L = ( f(x+h) - f(x) ) / h\n",
    "L # Positive derivative indicates the function is increasing at that point"
   ]
  },
  {
   "cell_type": "code",
   "execution_count": 24,
   "id": "433620d7",
   "metadata": {},
   "outputs": [
    {
     "data": {
      "text/plain": [
       "-22.00000039920269"
      ]
     },
     "execution_count": 24,
     "metadata": {},
     "output_type": "execute_result"
    }
   ],
   "source": [
    "h = 0.00000001 # The lower the value of h, the more accurate the value of derivative (L) will be\n",
    "x = -3\n",
    "L = ( f(x+h) - f(x) ) / h\n",
    "L # Negative derivative indicates the function is decreasing at that point"
   ]
  },
  {
   "cell_type": "code",
   "execution_count": 25,
   "id": "823efd35",
   "metadata": {},
   "outputs": [
    {
     "data": {
      "text/plain": [
       "0.0"
      ]
     },
     "execution_count": 25,
     "metadata": {},
     "output_type": "execute_result"
    }
   ],
   "source": [
    "h = 0.00000001 # The lower the value of h, the more accurate the value of derivative (L) will be\n",
    "x = 2/3\n",
    "L = ( f(x+h) - f(x) ) / h\n",
    "L # 0 derivative indicates a local minima / maxima"
   ]
  },
  {
   "cell_type": "markdown",
   "id": "3be9329b",
   "metadata": {},
   "source": [
    "# Derivative of a Multi Variable Function Like $f(x_1, x_2, x_3)$"
   ]
  },
  {
   "cell_type": "code",
   "execution_count": 27,
   "id": "56d20c5d",
   "metadata": {},
   "outputs": [],
   "source": [
    "def g(x1, x2, x3):\n",
    "    return x1 * x2 + x3"
   ]
  },
  {
   "cell_type": "code",
   "execution_count": 34,
   "id": "2dc0106a",
   "metadata": {},
   "outputs": [
    {
     "data": {
      "text/plain": [
       "(-3.000000248221113, 2.000000165480742, 1.000000082740371)"
      ]
     },
     "execution_count": 34,
     "metadata": {},
     "output_type": "execute_result"
    }
   ],
   "source": [
    "# Partial derivative of g w.r.t x1\n",
    "\n",
    "h = 0.000000001 # The lower the value of h, the more accurate the value of derivative (L) will be\n",
    "\n",
    "# Inputs \n",
    "x1 = 2\n",
    "x2 = -3.0\n",
    "x3 = 10\n",
    "\n",
    "L1 = ( g(x1+h, x2, x3) - g(x1, x2, x3) ) / h \n",
    "L2 = ( g(x1, x2+h, x3) - g(x1, x2, x3) ) / h \n",
    "L3 = ( g(x1, x2, x3+h) - g(x1, x2, x3) ) / h \n",
    "\n",
    "# If you know a bit about partial derivatives, you can observe that \n",
    "# L1 = partial derivative of g w.r.t x1  is just x2 \n",
    "# L2 = partial derivative of g w.r.t x2  is just x1 \n",
    "# L3 = partial derivative of g w.r.t x3  is just 1 \n",
    "L1, L2, L3"
   ]
  }
 ],
 "metadata": {
  "kernelspec": {
   "display_name": ".venv",
   "language": "python",
   "name": "python3"
  },
  "language_info": {
   "codemirror_mode": {
    "name": "ipython",
    "version": 3
   },
   "file_extension": ".py",
   "mimetype": "text/x-python",
   "name": "python",
   "nbconvert_exporter": "python",
   "pygments_lexer": "ipython3",
   "version": "3.9.6"
  }
 },
 "nbformat": 4,
 "nbformat_minor": 5
}
